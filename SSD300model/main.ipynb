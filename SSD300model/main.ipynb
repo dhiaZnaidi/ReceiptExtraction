{
  "nbformat": 4,
  "nbformat_minor": 0,
  "metadata": {
    "colab": {
      "provenance": []
    },
    "kernelspec": {
      "name": "python3",
      "display_name": "Python 3"
    },
    "language_info": {
      "name": "python"
    },
    "accelerator": "GPU",
    "gpuClass": "standard"
  },
  "cells": [
    {
      "cell_type": "code",
      "execution_count": 1,
      "metadata": {
        "id": "9sgjZlr39SVA"
      },
      "outputs": [],
      "source": [
        "import tensorflow as tf\n",
        "from tqdm import tqdm\n",
        "import numpy as np\n",
        "import os \n",
        "import zipfile\n",
        "from tensorflow.keras.optimizers.schedules import PiecewiseConstantDecay\n",
        "from utils_speedtraining import *\n",
        "\n"
      ]
    },
    {
      "cell_type": "code",
      "source": [
        "from model_ssd300 import SSD300\n",
        "from dataset_calling import ReceiptDetection\n",
        "from train_ssd import train\n",
        "from utils_speedtraining import *\n",
        "from vgg16_redefined import VGG16_backbone"
      ],
      "metadata": {
        "id": "cMJLFEwz-c6j"
      },
      "execution_count": 2,
      "outputs": []
    },
    {
      "cell_type": "code",
      "source": [
        "! pip install kaggle"
      ],
      "metadata": {
        "colab": {
          "base_uri": "https://localhost:8080/"
        },
        "id": "UzN_6TK89aMc",
        "outputId": "3ca80a0c-5752-45d3-9c8e-4c75606f47b5"
      },
      "execution_count": 3,
      "outputs": [
        {
          "output_type": "stream",
          "name": "stdout",
          "text": [
            "Looking in indexes: https://pypi.org/simple, https://us-python.pkg.dev/colab-wheels/public/simple/\n",
            "Requirement already satisfied: kaggle in /usr/local/lib/python3.8/dist-packages (1.5.12)\n",
            "Requirement already satisfied: requests in /usr/local/lib/python3.8/dist-packages (from kaggle) (2.23.0)\n",
            "Requirement already satisfied: urllib3 in /usr/local/lib/python3.8/dist-packages (from kaggle) (1.24.3)\n",
            "Requirement already satisfied: python-slugify in /usr/local/lib/python3.8/dist-packages (from kaggle) (7.0.0)\n",
            "Requirement already satisfied: six>=1.10 in /usr/local/lib/python3.8/dist-packages (from kaggle) (1.15.0)\n",
            "Requirement already satisfied: certifi in /usr/local/lib/python3.8/dist-packages (from kaggle) (2022.9.24)\n",
            "Requirement already satisfied: python-dateutil in /usr/local/lib/python3.8/dist-packages (from kaggle) (2.8.2)\n",
            "Requirement already satisfied: tqdm in /usr/local/lib/python3.8/dist-packages (from kaggle) (4.64.1)\n",
            "Requirement already satisfied: text-unidecode>=1.3 in /usr/local/lib/python3.8/dist-packages (from python-slugify->kaggle) (1.3)\n",
            "Requirement already satisfied: chardet<4,>=3.0.2 in /usr/local/lib/python3.8/dist-packages (from requests->kaggle) (3.0.4)\n",
            "Requirement already satisfied: idna<3,>=2.5 in /usr/local/lib/python3.8/dist-packages (from requests->kaggle) (2.10)\n"
          ]
        }
      ]
    },
    {
      "cell_type": "code",
      "source": [
        "!mkdir ~/.kaggle\n",
        "! cp kaggle.json ~/.kaggle/\n",
        "! chmod 600 ~/.kaggle/kaggle.json"
      ],
      "metadata": {
        "id": "agDBJCyp9cbE"
      },
      "execution_count": 3,
      "outputs": []
    },
    {
      "cell_type": "code",
      "source": [
        "!kaggle datasets download -d dhiaznaidi/receiptdatasetssd300v2"
      ],
      "metadata": {
        "colab": {
          "base_uri": "https://localhost:8080/"
        },
        "id": "hfvORlSV9u2G",
        "outputId": "576c7acb-ff65-43ce-8d38-2985835b0f6f"
      },
      "execution_count": 4,
      "outputs": [
        {
          "output_type": "stream",
          "name": "stdout",
          "text": [
            "Downloading receiptdatasetssd300v2.zip to /content\n",
            " 98% 425M/432M [00:05<00:00, 90.1MB/s]\n",
            "100% 432M/432M [00:06<00:00, 73.0MB/s]\n"
          ]
        }
      ]
    },
    {
      "cell_type": "code",
      "source": [
        "cwd = os.getcwd()\n",
        "zip_ref = zipfile.ZipFile(cwd+\"/receiptdatasetssd300v2.zip\", 'r')\n",
        "zip_ref.extractall(cwd)\n",
        "zip_ref.close()"
      ],
      "metadata": {
        "id": "FAw01RA991VO"
      },
      "execution_count": 3,
      "outputs": []
    },
    {
      "cell_type": "code",
      "source": [
        "cwd = os.getcwd()"
      ],
      "metadata": {
        "id": "WkgxuKQdEvEZ"
      },
      "execution_count": 4,
      "outputs": []
    },
    {
      "cell_type": "code",
      "source": [
        "dataset_path = cwd+\"/fullDataset\""
      ],
      "metadata": {
        "id": "9pJkLoDa96z4"
      },
      "execution_count": 5,
      "outputs": []
    },
    {
      "cell_type": "code",
      "source": [
        "preprocessed_data_path = cwd+\"/train_preprocessed_data\"\n",
        "saved_weights_path = cwd+\"/saved_weights\""
      ],
      "metadata": {
        "id": "IsWVxq619_wT"
      },
      "execution_count": 6,
      "outputs": []
    },
    {
      "cell_type": "markdown",
      "source": [
        "## Load SSD300 Model and VGG16 weights"
      ],
      "metadata": {
        "id": "rlK-BOSkCo0m"
      }
    },
    {
      "cell_type": "code",
      "source": [
        "SSD300_model = SSD300(3, floatType=32)\n",
        "SSD300_model.build(input_shape=(32, 300, 300, 3))\n",
        "SSD300_model.load_vgg16_imagenet_weights()"
      ],
      "metadata": {
        "id": "FnfHlErB_neG"
      },
      "execution_count": 7,
      "outputs": []
    },
    {
      "cell_type": "code",
      "source": [
        "SSD300_model.getModel().summary()"
      ],
      "metadata": {
        "id": "DrTiMBllF3e5"
      },
      "execution_count": null,
      "outputs": []
    },
    {
      "cell_type": "code",
      "source": [
        "calling_data = ReceiptDetection(dataset_path, batch_size=16, floatType=32)"
      ],
      "metadata": {
        "id": "I1qx6J6X86Ud"
      },
      "execution_count": 9,
      "outputs": []
    },
    {
      "cell_type": "code",
      "source": [
        "init_lr = 0.001\n",
        "lr_decay = PiecewiseConstantDecay(\n",
        "    boundaries=[80, 170, 260],\n",
        "    values=[init_lr, 0.0005, 0.0001, 0.00005])\n",
        "\n",
        "optimizer = tf.keras.optimizers.SGD(\n",
        "    learning_rate=lr_decay,\n",
        "    momentum=0.9)"
      ],
      "metadata": {
        "id": "aGtqzl48PMOZ"
      },
      "execution_count": 14,
      "outputs": []
    },
    {
      "cell_type": "code",
      "source": [
        "# Preprocess data\n",
        "# to be done only once,\n",
        "# if the path exists: assuming that the preprocessing has already been done completely\n",
        "if not os.path.exists(preprocessed_data_path):\n",
        "    saveGTdata(dataset_path, preprocessed_data_path)"
      ],
      "metadata": {
        "id": "ynhxToiolEPg"
      },
      "execution_count": null,
      "outputs": []
    },
    {
      "cell_type": "code",
      "source": [
        "imgs, confs, locs = loadGTdata(preprocessed_data_path, nb_data_to_load=500)"
      ],
      "metadata": {
        "id": "MP0U60qroDZL"
      },
      "execution_count": null,
      "outputs": []
    },
    {
      "cell_type": "code",
      "source": [
        "os.mkdir(saved_weights_path)"
      ],
      "metadata": {
        "id": "HzFZGpjbxQEa"
      },
      "execution_count": 58,
      "outputs": []
    },
    {
      "cell_type": "code",
      "source": [
        "train(SSD300_model, optimizer,\n",
        "      imgs, confs, locs, weights_path=saved_weights_path,\n",
        "      num_epoch=35, inter_save=5)"
      ],
      "metadata": {
        "id": "QXfxVe1iq3iQ"
      },
      "execution_count": null,
      "outputs": []
    },
    {
      "cell_type": "code",
      "source": [],
      "metadata": {
        "id": "R_hJpqel9i76"
      },
      "execution_count": null,
      "outputs": []
    }
  ]
}